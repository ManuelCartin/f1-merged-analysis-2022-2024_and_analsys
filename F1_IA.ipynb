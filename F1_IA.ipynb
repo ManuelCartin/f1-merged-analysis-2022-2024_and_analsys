{
  "nbformat": 4,
  "nbformat_minor": 0,
  "metadata": {
    "colab": {
      "provenance": []
    },
    "kernelspec": {
      "name": "python3",
      "display_name": "Python 3"
    },
    "language_info": {
      "name": "python"
    }
  },
  "cells": [
    {
      "cell_type": "markdown",
      "source": [
        "# 1. Introducción\n",
        "### Objetivo del Proyecto\n",
        "\n",
        "Este proyecto busca explorar el papel que ha tenido la ciencia de datos y la inteligencia artificial (IA) en el desarrollo y la estrategia en la Fórmula 1, con el fin de abordar dos ideas comunes:\n",
        "\n",
        "1. Que las IA son una tecnología \"nueva\" dentro del deporte.\n",
        "2. Que los datos han convertido la Fórmula 1 en un deporte predecible, restando valor al factor humano y a la causalidad de eventos en carrera.\n",
        "\n",
        "La hipótesis es que la ciencia de datos ha sido un pilar en la evolución del rendimiento de los monoplazas desde hace décadas, y que la IA, aunque más reciente como término popular, se basa en metodologías estadísticas y de modelado que ya eran utilizadas. Además, se analizará la relación entre predicción y causalidad en eventos impredecibles como la lluvia.\n"
      ],
      "metadata": {
        "id": "Jl2dTY0jJDXv"
      }
    },
    {
      "cell_type": "markdown",
      "source": [
        "# Análisis Exploratorio\n",
        "### Fuentes de Datos\n",
        "\n",
        "- API de FastF1\n",
        "- Datos Obtenidos del portal de Github de toUpperCase78\n",
        "- Datos de posición por vuelta, estrategias de neumáticos, paradas en pits, etc.\n",
        "\n",
        "### Exploración Inicial\n",
        "\n",
        "- Número de temporadas analizadas\n",
        "- Principales variables: equipos, pilotos, tiempos, clima, incidentes\n"
      ],
      "metadata": {
        "id": "SInVk6W2JPaU"
      }
    },
    {
      "cell_type": "code",
      "source": [
        "import numpy as np\n",
        "import pandas as pd\n",
        "import matplotlib as mp\n",
        "import matplotlib.pyplot as plt\n",
        "import seaborn as sns\n",
        "\n",
        "# Configuración visual\n",
        "sns.set(style='whitegrid')\n",
        "plt.rcParams['figure.figsize'] = (12, 6)\n"
      ],
      "metadata": {
        "id": "am0eoMklJE-O"
      },
      "execution_count": null,
      "outputs": []
    },
    {
      "cell_type": "markdown",
      "source": [
        "1. importacion de datos"
      ],
      "metadata": {
        "id": "dqPrxjRWdQ4o"
      }
    },
    {
      "cell_type": "code",
      "source": [
        "df_f1_2022_2024 = pd.read_csv('/content/sample_data/f1_2022_2024_clean.csv')\n",
        "display(df_f1_2022_2024.head())"
      ],
      "metadata": {
        "colab": {
          "base_uri": "https://localhost:8080/",
          "height": 377
        },
        "id": "9XpBIx9cdTrf",
        "outputId": "7c3b3965-3124-44c1-d609-55bb2468e2ed"
      },
      "execution_count": null,
      "outputs": [
        {
          "output_type": "display_data",
          "data": {
            "text/plain": [
              "     Track Position  No_x           Driver          Team  Starting Grid  Laps  \\\n",
              "0  Bahrain        1    16  Charles Leclerc       Ferrari              1    57   \n",
              "1  Bahrain        2    55     Carlos Sainz       Ferrari              3    57   \n",
              "2  Bahrain        3    44   Lewis Hamilton      Mercedes              5    57   \n",
              "3  Bahrain        4    63   George Russell      Mercedes              9    57   \n",
              "4  Bahrain        5    20  Kevin Magnussen  Haas Ferrari              7    57   \n",
              "\n",
              "  Time/Retired  Points_x +1 Pt  ... Laps_Qualify Position_Sprint  No_Sprint  \\\n",
              "0  1:37:33.584        26   Yes  ...         15.0             NaN        NaN   \n",
              "1       +5.598        18    No  ...         15.0             NaN        NaN   \n",
              "2       +9.675        15    No  ...         17.0             NaN        NaN   \n",
              "3      +11.211        12    No  ...         17.0             NaN        NaN   \n",
              "4      +14.754        10    No  ...         12.0             NaN        NaN   \n",
              "\n",
              "  Starting Grid_Sprint  Laps_Sprint  Time/Retired_Sprint  Points  Season  \\\n",
              "0                  NaN          NaN                  NaN     NaN    2022   \n",
              "1                  NaN          NaN                  NaN     NaN    2022   \n",
              "2                  NaN          NaN                  NaN     NaN    2022   \n",
              "3                  NaN          NaN                  NaN     NaN    2022   \n",
              "4                  NaN          NaN                  NaN     NaN    2022   \n",
              "\n",
              "  Set Fastest Lap  Fastest Lap Time  \n",
              "0             NaN               NaN  \n",
              "1             NaN               NaN  \n",
              "2             NaN               NaN  \n",
              "3             NaN               NaN  \n",
              "4             NaN               NaN  \n",
              "\n",
              "[5 rows x 37 columns]"
            ],
            "text/html": [
              "\n",
              "  <div id=\"df-a19e7923-7526-436b-ae6b-66a596e293e1\" class=\"colab-df-container\">\n",
              "    <div>\n",
              "<style scoped>\n",
              "    .dataframe tbody tr th:only-of-type {\n",
              "        vertical-align: middle;\n",
              "    }\n",
              "\n",
              "    .dataframe tbody tr th {\n",
              "        vertical-align: top;\n",
              "    }\n",
              "\n",
              "    .dataframe thead th {\n",
              "        text-align: right;\n",
              "    }\n",
              "</style>\n",
              "<table border=\"1\" class=\"dataframe\">\n",
              "  <thead>\n",
              "    <tr style=\"text-align: right;\">\n",
              "      <th></th>\n",
              "      <th>Track</th>\n",
              "      <th>Position</th>\n",
              "      <th>No_x</th>\n",
              "      <th>Driver</th>\n",
              "      <th>Team</th>\n",
              "      <th>Starting Grid</th>\n",
              "      <th>Laps</th>\n",
              "      <th>Time/Retired</th>\n",
              "      <th>Points_x</th>\n",
              "      <th>+1 Pt</th>\n",
              "      <th>...</th>\n",
              "      <th>Laps_Qualify</th>\n",
              "      <th>Position_Sprint</th>\n",
              "      <th>No_Sprint</th>\n",
              "      <th>Starting Grid_Sprint</th>\n",
              "      <th>Laps_Sprint</th>\n",
              "      <th>Time/Retired_Sprint</th>\n",
              "      <th>Points</th>\n",
              "      <th>Season</th>\n",
              "      <th>Set Fastest Lap</th>\n",
              "      <th>Fastest Lap Time</th>\n",
              "    </tr>\n",
              "  </thead>\n",
              "  <tbody>\n",
              "    <tr>\n",
              "      <th>0</th>\n",
              "      <td>Bahrain</td>\n",
              "      <td>1</td>\n",
              "      <td>16</td>\n",
              "      <td>Charles Leclerc</td>\n",
              "      <td>Ferrari</td>\n",
              "      <td>1</td>\n",
              "      <td>57</td>\n",
              "      <td>1:37:33.584</td>\n",
              "      <td>26</td>\n",
              "      <td>Yes</td>\n",
              "      <td>...</td>\n",
              "      <td>15.0</td>\n",
              "      <td>NaN</td>\n",
              "      <td>NaN</td>\n",
              "      <td>NaN</td>\n",
              "      <td>NaN</td>\n",
              "      <td>NaN</td>\n",
              "      <td>NaN</td>\n",
              "      <td>2022</td>\n",
              "      <td>NaN</td>\n",
              "      <td>NaN</td>\n",
              "    </tr>\n",
              "    <tr>\n",
              "      <th>1</th>\n",
              "      <td>Bahrain</td>\n",
              "      <td>2</td>\n",
              "      <td>55</td>\n",
              "      <td>Carlos Sainz</td>\n",
              "      <td>Ferrari</td>\n",
              "      <td>3</td>\n",
              "      <td>57</td>\n",
              "      <td>+5.598</td>\n",
              "      <td>18</td>\n",
              "      <td>No</td>\n",
              "      <td>...</td>\n",
              "      <td>15.0</td>\n",
              "      <td>NaN</td>\n",
              "      <td>NaN</td>\n",
              "      <td>NaN</td>\n",
              "      <td>NaN</td>\n",
              "      <td>NaN</td>\n",
              "      <td>NaN</td>\n",
              "      <td>2022</td>\n",
              "      <td>NaN</td>\n",
              "      <td>NaN</td>\n",
              "    </tr>\n",
              "    <tr>\n",
              "      <th>2</th>\n",
              "      <td>Bahrain</td>\n",
              "      <td>3</td>\n",
              "      <td>44</td>\n",
              "      <td>Lewis Hamilton</td>\n",
              "      <td>Mercedes</td>\n",
              "      <td>5</td>\n",
              "      <td>57</td>\n",
              "      <td>+9.675</td>\n",
              "      <td>15</td>\n",
              "      <td>No</td>\n",
              "      <td>...</td>\n",
              "      <td>17.0</td>\n",
              "      <td>NaN</td>\n",
              "      <td>NaN</td>\n",
              "      <td>NaN</td>\n",
              "      <td>NaN</td>\n",
              "      <td>NaN</td>\n",
              "      <td>NaN</td>\n",
              "      <td>2022</td>\n",
              "      <td>NaN</td>\n",
              "      <td>NaN</td>\n",
              "    </tr>\n",
              "    <tr>\n",
              "      <th>3</th>\n",
              "      <td>Bahrain</td>\n",
              "      <td>4</td>\n",
              "      <td>63</td>\n",
              "      <td>George Russell</td>\n",
              "      <td>Mercedes</td>\n",
              "      <td>9</td>\n",
              "      <td>57</td>\n",
              "      <td>+11.211</td>\n",
              "      <td>12</td>\n",
              "      <td>No</td>\n",
              "      <td>...</td>\n",
              "      <td>17.0</td>\n",
              "      <td>NaN</td>\n",
              "      <td>NaN</td>\n",
              "      <td>NaN</td>\n",
              "      <td>NaN</td>\n",
              "      <td>NaN</td>\n",
              "      <td>NaN</td>\n",
              "      <td>2022</td>\n",
              "      <td>NaN</td>\n",
              "      <td>NaN</td>\n",
              "    </tr>\n",
              "    <tr>\n",
              "      <th>4</th>\n",
              "      <td>Bahrain</td>\n",
              "      <td>5</td>\n",
              "      <td>20</td>\n",
              "      <td>Kevin Magnussen</td>\n",
              "      <td>Haas Ferrari</td>\n",
              "      <td>7</td>\n",
              "      <td>57</td>\n",
              "      <td>+14.754</td>\n",
              "      <td>10</td>\n",
              "      <td>No</td>\n",
              "      <td>...</td>\n",
              "      <td>12.0</td>\n",
              "      <td>NaN</td>\n",
              "      <td>NaN</td>\n",
              "      <td>NaN</td>\n",
              "      <td>NaN</td>\n",
              "      <td>NaN</td>\n",
              "      <td>NaN</td>\n",
              "      <td>2022</td>\n",
              "      <td>NaN</td>\n",
              "      <td>NaN</td>\n",
              "    </tr>\n",
              "  </tbody>\n",
              "</table>\n",
              "<p>5 rows × 37 columns</p>\n",
              "</div>\n",
              "    <div class=\"colab-df-buttons\">\n",
              "\n",
              "  <div class=\"colab-df-container\">\n",
              "    <button class=\"colab-df-convert\" onclick=\"convertToInteractive('df-a19e7923-7526-436b-ae6b-66a596e293e1')\"\n",
              "            title=\"Convert this dataframe to an interactive table.\"\n",
              "            style=\"display:none;\">\n",
              "\n",
              "  <svg xmlns=\"http://www.w3.org/2000/svg\" height=\"24px\" viewBox=\"0 -960 960 960\">\n",
              "    <path d=\"M120-120v-720h720v720H120Zm60-500h600v-160H180v160Zm220 220h160v-160H400v160Zm0 220h160v-160H400v160ZM180-400h160v-160H180v160Zm440 0h160v-160H620v160ZM180-180h160v-160H180v160Zm440 0h160v-160H620v160Z\"/>\n",
              "  </svg>\n",
              "    </button>\n",
              "\n",
              "  <style>\n",
              "    .colab-df-container {\n",
              "      display:flex;\n",
              "      gap: 12px;\n",
              "    }\n",
              "\n",
              "    .colab-df-convert {\n",
              "      background-color: #E8F0FE;\n",
              "      border: none;\n",
              "      border-radius: 50%;\n",
              "      cursor: pointer;\n",
              "      display: none;\n",
              "      fill: #1967D2;\n",
              "      height: 32px;\n",
              "      padding: 0 0 0 0;\n",
              "      width: 32px;\n",
              "    }\n",
              "\n",
              "    .colab-df-convert:hover {\n",
              "      background-color: #E2EBFA;\n",
              "      box-shadow: 0px 1px 2px rgba(60, 64, 67, 0.3), 0px 1px 3px 1px rgba(60, 64, 67, 0.15);\n",
              "      fill: #174EA6;\n",
              "    }\n",
              "\n",
              "    .colab-df-buttons div {\n",
              "      margin-bottom: 4px;\n",
              "    }\n",
              "\n",
              "    [theme=dark] .colab-df-convert {\n",
              "      background-color: #3B4455;\n",
              "      fill: #D2E3FC;\n",
              "    }\n",
              "\n",
              "    [theme=dark] .colab-df-convert:hover {\n",
              "      background-color: #434B5C;\n",
              "      box-shadow: 0px 1px 3px 1px rgba(0, 0, 0, 0.15);\n",
              "      filter: drop-shadow(0px 1px 2px rgba(0, 0, 0, 0.3));\n",
              "      fill: #FFFFFF;\n",
              "    }\n",
              "  </style>\n",
              "\n",
              "    <script>\n",
              "      const buttonEl =\n",
              "        document.querySelector('#df-a19e7923-7526-436b-ae6b-66a596e293e1 button.colab-df-convert');\n",
              "      buttonEl.style.display =\n",
              "        google.colab.kernel.accessAllowed ? 'block' : 'none';\n",
              "\n",
              "      async function convertToInteractive(key) {\n",
              "        const element = document.querySelector('#df-a19e7923-7526-436b-ae6b-66a596e293e1');\n",
              "        const dataTable =\n",
              "          await google.colab.kernel.invokeFunction('convertToInteractive',\n",
              "                                                    [key], {});\n",
              "        if (!dataTable) return;\n",
              "\n",
              "        const docLinkHtml = 'Like what you see? Visit the ' +\n",
              "          '<a target=\"_blank\" href=https://colab.research.google.com/notebooks/data_table.ipynb>data table notebook</a>'\n",
              "          + ' to learn more about interactive tables.';\n",
              "        element.innerHTML = '';\n",
              "        dataTable['output_type'] = 'display_data';\n",
              "        await google.colab.output.renderOutput(dataTable, element);\n",
              "        const docLink = document.createElement('div');\n",
              "        docLink.innerHTML = docLinkHtml;\n",
              "        element.appendChild(docLink);\n",
              "      }\n",
              "    </script>\n",
              "  </div>\n",
              "\n",
              "\n",
              "    <div id=\"df-81e54a18-a0e3-40d6-b3fc-90c0faa03814\">\n",
              "      <button class=\"colab-df-quickchart\" onclick=\"quickchart('df-81e54a18-a0e3-40d6-b3fc-90c0faa03814')\"\n",
              "                title=\"Suggest charts\"\n",
              "                style=\"display:none;\">\n",
              "\n",
              "<svg xmlns=\"http://www.w3.org/2000/svg\" height=\"24px\"viewBox=\"0 0 24 24\"\n",
              "     width=\"24px\">\n",
              "    <g>\n",
              "        <path d=\"M19 3H5c-1.1 0-2 .9-2 2v14c0 1.1.9 2 2 2h14c1.1 0 2-.9 2-2V5c0-1.1-.9-2-2-2zM9 17H7v-7h2v7zm4 0h-2V7h2v10zm4 0h-2v-4h2v4z\"/>\n",
              "    </g>\n",
              "</svg>\n",
              "      </button>\n",
              "\n",
              "<style>\n",
              "  .colab-df-quickchart {\n",
              "      --bg-color: #E8F0FE;\n",
              "      --fill-color: #1967D2;\n",
              "      --hover-bg-color: #E2EBFA;\n",
              "      --hover-fill-color: #174EA6;\n",
              "      --disabled-fill-color: #AAA;\n",
              "      --disabled-bg-color: #DDD;\n",
              "  }\n",
              "\n",
              "  [theme=dark] .colab-df-quickchart {\n",
              "      --bg-color: #3B4455;\n",
              "      --fill-color: #D2E3FC;\n",
              "      --hover-bg-color: #434B5C;\n",
              "      --hover-fill-color: #FFFFFF;\n",
              "      --disabled-bg-color: #3B4455;\n",
              "      --disabled-fill-color: #666;\n",
              "  }\n",
              "\n",
              "  .colab-df-quickchart {\n",
              "    background-color: var(--bg-color);\n",
              "    border: none;\n",
              "    border-radius: 50%;\n",
              "    cursor: pointer;\n",
              "    display: none;\n",
              "    fill: var(--fill-color);\n",
              "    height: 32px;\n",
              "    padding: 0;\n",
              "    width: 32px;\n",
              "  }\n",
              "\n",
              "  .colab-df-quickchart:hover {\n",
              "    background-color: var(--hover-bg-color);\n",
              "    box-shadow: 0 1px 2px rgba(60, 64, 67, 0.3), 0 1px 3px 1px rgba(60, 64, 67, 0.15);\n",
              "    fill: var(--button-hover-fill-color);\n",
              "  }\n",
              "\n",
              "  .colab-df-quickchart-complete:disabled,\n",
              "  .colab-df-quickchart-complete:disabled:hover {\n",
              "    background-color: var(--disabled-bg-color);\n",
              "    fill: var(--disabled-fill-color);\n",
              "    box-shadow: none;\n",
              "  }\n",
              "\n",
              "  .colab-df-spinner {\n",
              "    border: 2px solid var(--fill-color);\n",
              "    border-color: transparent;\n",
              "    border-bottom-color: var(--fill-color);\n",
              "    animation:\n",
              "      spin 1s steps(1) infinite;\n",
              "  }\n",
              "\n",
              "  @keyframes spin {\n",
              "    0% {\n",
              "      border-color: transparent;\n",
              "      border-bottom-color: var(--fill-color);\n",
              "      border-left-color: var(--fill-color);\n",
              "    }\n",
              "    20% {\n",
              "      border-color: transparent;\n",
              "      border-left-color: var(--fill-color);\n",
              "      border-top-color: var(--fill-color);\n",
              "    }\n",
              "    30% {\n",
              "      border-color: transparent;\n",
              "      border-left-color: var(--fill-color);\n",
              "      border-top-color: var(--fill-color);\n",
              "      border-right-color: var(--fill-color);\n",
              "    }\n",
              "    40% {\n",
              "      border-color: transparent;\n",
              "      border-right-color: var(--fill-color);\n",
              "      border-top-color: var(--fill-color);\n",
              "    }\n",
              "    60% {\n",
              "      border-color: transparent;\n",
              "      border-right-color: var(--fill-color);\n",
              "    }\n",
              "    80% {\n",
              "      border-color: transparent;\n",
              "      border-right-color: var(--fill-color);\n",
              "      border-bottom-color: var(--fill-color);\n",
              "    }\n",
              "    90% {\n",
              "      border-color: transparent;\n",
              "      border-bottom-color: var(--fill-color);\n",
              "    }\n",
              "  }\n",
              "</style>\n",
              "\n",
              "      <script>\n",
              "        async function quickchart(key) {\n",
              "          const quickchartButtonEl =\n",
              "            document.querySelector('#' + key + ' button');\n",
              "          quickchartButtonEl.disabled = true;  // To prevent multiple clicks.\n",
              "          quickchartButtonEl.classList.add('colab-df-spinner');\n",
              "          try {\n",
              "            const charts = await google.colab.kernel.invokeFunction(\n",
              "                'suggestCharts', [key], {});\n",
              "          } catch (error) {\n",
              "            console.error('Error during call to suggestCharts:', error);\n",
              "          }\n",
              "          quickchartButtonEl.classList.remove('colab-df-spinner');\n",
              "          quickchartButtonEl.classList.add('colab-df-quickchart-complete');\n",
              "        }\n",
              "        (() => {\n",
              "          let quickchartButtonEl =\n",
              "            document.querySelector('#df-81e54a18-a0e3-40d6-b3fc-90c0faa03814 button');\n",
              "          quickchartButtonEl.style.display =\n",
              "            google.colab.kernel.accessAllowed ? 'block' : 'none';\n",
              "        })();\n",
              "      </script>\n",
              "    </div>\n",
              "\n",
              "    </div>\n",
              "  </div>\n"
            ],
            "application/vnd.google.colaboratory.intrinsic+json": {
              "type": "dataframe"
            }
          },
          "metadata": {}
        }
      ]
    },
    {
      "cell_type": "markdown",
      "source": [
        "### Evolución de la Dominancia en la F1\n",
        "\n",
        "- Comparar épocas: Schumacher-Ferrari, Vettel-Red Bull, Hamilton-Mercedes, Verstappen-Red Bull\n",
        "- ¿Qué tan predecibles eran las temporadas por rendimiento?\n",
        "\n",
        "### Correlación entre variables técnicas y resultados\n",
        "\n",
        "- ¿Cambios técnicos afectan resultados?\n",
        "- ¿Cuánto influyen decisiones de estrategia, clima, y safety car?\n"
      ],
      "metadata": {
        "id": "AQCX5o8sJSWd"
      }
    },
    {
      "cell_type": "markdown",
      "source": [
        "1. Análisis de Predictibilidad por Er\n"
      ],
      "metadata": {
        "id": "W4C4NqX2ejWr"
      }
    },
    {
      "cell_type": "code",
      "source": [
        "df_f1_2022_2024.groupby(['Season', 'Team'])['Points'].sum().reset_index()"
      ],
      "metadata": {
        "id": "J1WLpCsmJVXy",
        "colab": {
          "base_uri": "https://localhost:8080/",
          "height": 990
        },
        "outputId": "3c2e5adb-4b7f-42d4-bfb0-722affa33ee8"
      },
      "execution_count": null,
      "outputs": [
        {
          "output_type": "execute_result",
          "data": {
            "text/plain": [
              "    Season                          Team  Points\n",
              "0     2022            Alfa Romeo Ferrari     2.0\n",
              "1     2022               AlphaTauri RBPT     0.0\n",
              "2     2022                Alpine Renault     3.0\n",
              "3     2022  Aston Martin Aramco Mercedes     0.0\n",
              "4     2022                       Ferrari    35.0\n",
              "5     2022                  Haas Ferrari     4.0\n",
              "6     2022              McLaren Mercedes     9.0\n",
              "7     2022                      Mercedes    20.0\n",
              "8     2022          Red Bull Racing RBPT    35.0\n",
              "9     2022             Williams Mercedes     0.0\n",
              "10    2023            Alfa Romeo Ferrari     0.0\n",
              "11    2023         AlphaTauri Honda RBPT     3.0\n",
              "12    2023                Alpine Renault    10.0\n",
              "13    2023  Aston Martin Aramco Mercedes    14.0\n",
              "14    2023                       Ferrari    43.0\n",
              "15    2023                  Haas Ferrari     3.0\n",
              "16    2023              McLaren Mercedes    36.0\n",
              "17    2023                      Mercedes    35.0\n",
              "18    2023    Red Bull Racing Honda RBPT    70.0\n",
              "19    2023             Williams Mercedes     2.0\n",
              "20    2024                Alpine Renault     2.0\n",
              "21    2024  Aston Martin Aramco Mercedes     0.0\n",
              "22    2024                       Ferrari    57.0\n",
              "23    2024                  Haas Ferrari     7.0\n",
              "24    2024           Kick Sauber Ferrari     0.0\n",
              "25    2024              McLaren Mercedes    57.0\n",
              "26    2024                      Mercedes    35.0\n",
              "27    2024                 RB Honda RBPT     6.0\n",
              "28    2024    Red Bull Racing Honda RBPT    52.0\n",
              "29    2024             Williams Mercedes     0.0"
            ],
            "text/html": [
              "\n",
              "  <div id=\"df-704dcaf2-ccdd-4a67-82e2-25e6dc4a2a43\" class=\"colab-df-container\">\n",
              "    <div>\n",
              "<style scoped>\n",
              "    .dataframe tbody tr th:only-of-type {\n",
              "        vertical-align: middle;\n",
              "    }\n",
              "\n",
              "    .dataframe tbody tr th {\n",
              "        vertical-align: top;\n",
              "    }\n",
              "\n",
              "    .dataframe thead th {\n",
              "        text-align: right;\n",
              "    }\n",
              "</style>\n",
              "<table border=\"1\" class=\"dataframe\">\n",
              "  <thead>\n",
              "    <tr style=\"text-align: right;\">\n",
              "      <th></th>\n",
              "      <th>Season</th>\n",
              "      <th>Team</th>\n",
              "      <th>Points</th>\n",
              "    </tr>\n",
              "  </thead>\n",
              "  <tbody>\n",
              "    <tr>\n",
              "      <th>0</th>\n",
              "      <td>2022</td>\n",
              "      <td>Alfa Romeo Ferrari</td>\n",
              "      <td>2.0</td>\n",
              "    </tr>\n",
              "    <tr>\n",
              "      <th>1</th>\n",
              "      <td>2022</td>\n",
              "      <td>AlphaTauri RBPT</td>\n",
              "      <td>0.0</td>\n",
              "    </tr>\n",
              "    <tr>\n",
              "      <th>2</th>\n",
              "      <td>2022</td>\n",
              "      <td>Alpine Renault</td>\n",
              "      <td>3.0</td>\n",
              "    </tr>\n",
              "    <tr>\n",
              "      <th>3</th>\n",
              "      <td>2022</td>\n",
              "      <td>Aston Martin Aramco Mercedes</td>\n",
              "      <td>0.0</td>\n",
              "    </tr>\n",
              "    <tr>\n",
              "      <th>4</th>\n",
              "      <td>2022</td>\n",
              "      <td>Ferrari</td>\n",
              "      <td>35.0</td>\n",
              "    </tr>\n",
              "    <tr>\n",
              "      <th>5</th>\n",
              "      <td>2022</td>\n",
              "      <td>Haas Ferrari</td>\n",
              "      <td>4.0</td>\n",
              "    </tr>\n",
              "    <tr>\n",
              "      <th>6</th>\n",
              "      <td>2022</td>\n",
              "      <td>McLaren Mercedes</td>\n",
              "      <td>9.0</td>\n",
              "    </tr>\n",
              "    <tr>\n",
              "      <th>7</th>\n",
              "      <td>2022</td>\n",
              "      <td>Mercedes</td>\n",
              "      <td>20.0</td>\n",
              "    </tr>\n",
              "    <tr>\n",
              "      <th>8</th>\n",
              "      <td>2022</td>\n",
              "      <td>Red Bull Racing RBPT</td>\n",
              "      <td>35.0</td>\n",
              "    </tr>\n",
              "    <tr>\n",
              "      <th>9</th>\n",
              "      <td>2022</td>\n",
              "      <td>Williams Mercedes</td>\n",
              "      <td>0.0</td>\n",
              "    </tr>\n",
              "    <tr>\n",
              "      <th>10</th>\n",
              "      <td>2023</td>\n",
              "      <td>Alfa Romeo Ferrari</td>\n",
              "      <td>0.0</td>\n",
              "    </tr>\n",
              "    <tr>\n",
              "      <th>11</th>\n",
              "      <td>2023</td>\n",
              "      <td>AlphaTauri Honda RBPT</td>\n",
              "      <td>3.0</td>\n",
              "    </tr>\n",
              "    <tr>\n",
              "      <th>12</th>\n",
              "      <td>2023</td>\n",
              "      <td>Alpine Renault</td>\n",
              "      <td>10.0</td>\n",
              "    </tr>\n",
              "    <tr>\n",
              "      <th>13</th>\n",
              "      <td>2023</td>\n",
              "      <td>Aston Martin Aramco Mercedes</td>\n",
              "      <td>14.0</td>\n",
              "    </tr>\n",
              "    <tr>\n",
              "      <th>14</th>\n",
              "      <td>2023</td>\n",
              "      <td>Ferrari</td>\n",
              "      <td>43.0</td>\n",
              "    </tr>\n",
              "    <tr>\n",
              "      <th>15</th>\n",
              "      <td>2023</td>\n",
              "      <td>Haas Ferrari</td>\n",
              "      <td>3.0</td>\n",
              "    </tr>\n",
              "    <tr>\n",
              "      <th>16</th>\n",
              "      <td>2023</td>\n",
              "      <td>McLaren Mercedes</td>\n",
              "      <td>36.0</td>\n",
              "    </tr>\n",
              "    <tr>\n",
              "      <th>17</th>\n",
              "      <td>2023</td>\n",
              "      <td>Mercedes</td>\n",
              "      <td>35.0</td>\n",
              "    </tr>\n",
              "    <tr>\n",
              "      <th>18</th>\n",
              "      <td>2023</td>\n",
              "      <td>Red Bull Racing Honda RBPT</td>\n",
              "      <td>70.0</td>\n",
              "    </tr>\n",
              "    <tr>\n",
              "      <th>19</th>\n",
              "      <td>2023</td>\n",
              "      <td>Williams Mercedes</td>\n",
              "      <td>2.0</td>\n",
              "    </tr>\n",
              "    <tr>\n",
              "      <th>20</th>\n",
              "      <td>2024</td>\n",
              "      <td>Alpine Renault</td>\n",
              "      <td>2.0</td>\n",
              "    </tr>\n",
              "    <tr>\n",
              "      <th>21</th>\n",
              "      <td>2024</td>\n",
              "      <td>Aston Martin Aramco Mercedes</td>\n",
              "      <td>0.0</td>\n",
              "    </tr>\n",
              "    <tr>\n",
              "      <th>22</th>\n",
              "      <td>2024</td>\n",
              "      <td>Ferrari</td>\n",
              "      <td>57.0</td>\n",
              "    </tr>\n",
              "    <tr>\n",
              "      <th>23</th>\n",
              "      <td>2024</td>\n",
              "      <td>Haas Ferrari</td>\n",
              "      <td>7.0</td>\n",
              "    </tr>\n",
              "    <tr>\n",
              "      <th>24</th>\n",
              "      <td>2024</td>\n",
              "      <td>Kick Sauber Ferrari</td>\n",
              "      <td>0.0</td>\n",
              "    </tr>\n",
              "    <tr>\n",
              "      <th>25</th>\n",
              "      <td>2024</td>\n",
              "      <td>McLaren Mercedes</td>\n",
              "      <td>57.0</td>\n",
              "    </tr>\n",
              "    <tr>\n",
              "      <th>26</th>\n",
              "      <td>2024</td>\n",
              "      <td>Mercedes</td>\n",
              "      <td>35.0</td>\n",
              "    </tr>\n",
              "    <tr>\n",
              "      <th>27</th>\n",
              "      <td>2024</td>\n",
              "      <td>RB Honda RBPT</td>\n",
              "      <td>6.0</td>\n",
              "    </tr>\n",
              "    <tr>\n",
              "      <th>28</th>\n",
              "      <td>2024</td>\n",
              "      <td>Red Bull Racing Honda RBPT</td>\n",
              "      <td>52.0</td>\n",
              "    </tr>\n",
              "    <tr>\n",
              "      <th>29</th>\n",
              "      <td>2024</td>\n",
              "      <td>Williams Mercedes</td>\n",
              "      <td>0.0</td>\n",
              "    </tr>\n",
              "  </tbody>\n",
              "</table>\n",
              "</div>\n",
              "    <div class=\"colab-df-buttons\">\n",
              "\n",
              "  <div class=\"colab-df-container\">\n",
              "    <button class=\"colab-df-convert\" onclick=\"convertToInteractive('df-704dcaf2-ccdd-4a67-82e2-25e6dc4a2a43')\"\n",
              "            title=\"Convert this dataframe to an interactive table.\"\n",
              "            style=\"display:none;\">\n",
              "\n",
              "  <svg xmlns=\"http://www.w3.org/2000/svg\" height=\"24px\" viewBox=\"0 -960 960 960\">\n",
              "    <path d=\"M120-120v-720h720v720H120Zm60-500h600v-160H180v160Zm220 220h160v-160H400v160Zm0 220h160v-160H400v160ZM180-400h160v-160H180v160Zm440 0h160v-160H620v160ZM180-180h160v-160H180v160Zm440 0h160v-160H620v160Z\"/>\n",
              "  </svg>\n",
              "    </button>\n",
              "\n",
              "  <style>\n",
              "    .colab-df-container {\n",
              "      display:flex;\n",
              "      gap: 12px;\n",
              "    }\n",
              "\n",
              "    .colab-df-convert {\n",
              "      background-color: #E8F0FE;\n",
              "      border: none;\n",
              "      border-radius: 50%;\n",
              "      cursor: pointer;\n",
              "      display: none;\n",
              "      fill: #1967D2;\n",
              "      height: 32px;\n",
              "      padding: 0 0 0 0;\n",
              "      width: 32px;\n",
              "    }\n",
              "\n",
              "    .colab-df-convert:hover {\n",
              "      background-color: #E2EBFA;\n",
              "      box-shadow: 0px 1px 2px rgba(60, 64, 67, 0.3), 0px 1px 3px 1px rgba(60, 64, 67, 0.15);\n",
              "      fill: #174EA6;\n",
              "    }\n",
              "\n",
              "    .colab-df-buttons div {\n",
              "      margin-bottom: 4px;\n",
              "    }\n",
              "\n",
              "    [theme=dark] .colab-df-convert {\n",
              "      background-color: #3B4455;\n",
              "      fill: #D2E3FC;\n",
              "    }\n",
              "\n",
              "    [theme=dark] .colab-df-convert:hover {\n",
              "      background-color: #434B5C;\n",
              "      box-shadow: 0px 1px 3px 1px rgba(0, 0, 0, 0.15);\n",
              "      filter: drop-shadow(0px 1px 2px rgba(0, 0, 0, 0.3));\n",
              "      fill: #FFFFFF;\n",
              "    }\n",
              "  </style>\n",
              "\n",
              "    <script>\n",
              "      const buttonEl =\n",
              "        document.querySelector('#df-704dcaf2-ccdd-4a67-82e2-25e6dc4a2a43 button.colab-df-convert');\n",
              "      buttonEl.style.display =\n",
              "        google.colab.kernel.accessAllowed ? 'block' : 'none';\n",
              "\n",
              "      async function convertToInteractive(key) {\n",
              "        const element = document.querySelector('#df-704dcaf2-ccdd-4a67-82e2-25e6dc4a2a43');\n",
              "        const dataTable =\n",
              "          await google.colab.kernel.invokeFunction('convertToInteractive',\n",
              "                                                    [key], {});\n",
              "        if (!dataTable) return;\n",
              "\n",
              "        const docLinkHtml = 'Like what you see? Visit the ' +\n",
              "          '<a target=\"_blank\" href=https://colab.research.google.com/notebooks/data_table.ipynb>data table notebook</a>'\n",
              "          + ' to learn more about interactive tables.';\n",
              "        element.innerHTML = '';\n",
              "        dataTable['output_type'] = 'display_data';\n",
              "        await google.colab.output.renderOutput(dataTable, element);\n",
              "        const docLink = document.createElement('div');\n",
              "        docLink.innerHTML = docLinkHtml;\n",
              "        element.appendChild(docLink);\n",
              "      }\n",
              "    </script>\n",
              "  </div>\n",
              "\n",
              "\n",
              "    <div id=\"df-d39261ac-4b72-40e4-a3a6-64cf7cbfa243\">\n",
              "      <button class=\"colab-df-quickchart\" onclick=\"quickchart('df-d39261ac-4b72-40e4-a3a6-64cf7cbfa243')\"\n",
              "                title=\"Suggest charts\"\n",
              "                style=\"display:none;\">\n",
              "\n",
              "<svg xmlns=\"http://www.w3.org/2000/svg\" height=\"24px\"viewBox=\"0 0 24 24\"\n",
              "     width=\"24px\">\n",
              "    <g>\n",
              "        <path d=\"M19 3H5c-1.1 0-2 .9-2 2v14c0 1.1.9 2 2 2h14c1.1 0 2-.9 2-2V5c0-1.1-.9-2-2-2zM9 17H7v-7h2v7zm4 0h-2V7h2v10zm4 0h-2v-4h2v4z\"/>\n",
              "    </g>\n",
              "</svg>\n",
              "      </button>\n",
              "\n",
              "<style>\n",
              "  .colab-df-quickchart {\n",
              "      --bg-color: #E8F0FE;\n",
              "      --fill-color: #1967D2;\n",
              "      --hover-bg-color: #E2EBFA;\n",
              "      --hover-fill-color: #174EA6;\n",
              "      --disabled-fill-color: #AAA;\n",
              "      --disabled-bg-color: #DDD;\n",
              "  }\n",
              "\n",
              "  [theme=dark] .colab-df-quickchart {\n",
              "      --bg-color: #3B4455;\n",
              "      --fill-color: #D2E3FC;\n",
              "      --hover-bg-color: #434B5C;\n",
              "      --hover-fill-color: #FFFFFF;\n",
              "      --disabled-bg-color: #3B4455;\n",
              "      --disabled-fill-color: #666;\n",
              "  }\n",
              "\n",
              "  .colab-df-quickchart {\n",
              "    background-color: var(--bg-color);\n",
              "    border: none;\n",
              "    border-radius: 50%;\n",
              "    cursor: pointer;\n",
              "    display: none;\n",
              "    fill: var(--fill-color);\n",
              "    height: 32px;\n",
              "    padding: 0;\n",
              "    width: 32px;\n",
              "  }\n",
              "\n",
              "  .colab-df-quickchart:hover {\n",
              "    background-color: var(--hover-bg-color);\n",
              "    box-shadow: 0 1px 2px rgba(60, 64, 67, 0.3), 0 1px 3px 1px rgba(60, 64, 67, 0.15);\n",
              "    fill: var(--button-hover-fill-color);\n",
              "  }\n",
              "\n",
              "  .colab-df-quickchart-complete:disabled,\n",
              "  .colab-df-quickchart-complete:disabled:hover {\n",
              "    background-color: var(--disabled-bg-color);\n",
              "    fill: var(--disabled-fill-color);\n",
              "    box-shadow: none;\n",
              "  }\n",
              "\n",
              "  .colab-df-spinner {\n",
              "    border: 2px solid var(--fill-color);\n",
              "    border-color: transparent;\n",
              "    border-bottom-color: var(--fill-color);\n",
              "    animation:\n",
              "      spin 1s steps(1) infinite;\n",
              "  }\n",
              "\n",
              "  @keyframes spin {\n",
              "    0% {\n",
              "      border-color: transparent;\n",
              "      border-bottom-color: var(--fill-color);\n",
              "      border-left-color: var(--fill-color);\n",
              "    }\n",
              "    20% {\n",
              "      border-color: transparent;\n",
              "      border-left-color: var(--fill-color);\n",
              "      border-top-color: var(--fill-color);\n",
              "    }\n",
              "    30% {\n",
              "      border-color: transparent;\n",
              "      border-left-color: var(--fill-color);\n",
              "      border-top-color: var(--fill-color);\n",
              "      border-right-color: var(--fill-color);\n",
              "    }\n",
              "    40% {\n",
              "      border-color: transparent;\n",
              "      border-right-color: var(--fill-color);\n",
              "      border-top-color: var(--fill-color);\n",
              "    }\n",
              "    60% {\n",
              "      border-color: transparent;\n",
              "      border-right-color: var(--fill-color);\n",
              "    }\n",
              "    80% {\n",
              "      border-color: transparent;\n",
              "      border-right-color: var(--fill-color);\n",
              "      border-bottom-color: var(--fill-color);\n",
              "    }\n",
              "    90% {\n",
              "      border-color: transparent;\n",
              "      border-bottom-color: var(--fill-color);\n",
              "    }\n",
              "  }\n",
              "</style>\n",
              "\n",
              "      <script>\n",
              "        async function quickchart(key) {\n",
              "          const quickchartButtonEl =\n",
              "            document.querySelector('#' + key + ' button');\n",
              "          quickchartButtonEl.disabled = true;  // To prevent multiple clicks.\n",
              "          quickchartButtonEl.classList.add('colab-df-spinner');\n",
              "          try {\n",
              "            const charts = await google.colab.kernel.invokeFunction(\n",
              "                'suggestCharts', [key], {});\n",
              "          } catch (error) {\n",
              "            console.error('Error during call to suggestCharts:', error);\n",
              "          }\n",
              "          quickchartButtonEl.classList.remove('colab-df-spinner');\n",
              "          quickchartButtonEl.classList.add('colab-df-quickchart-complete');\n",
              "        }\n",
              "        (() => {\n",
              "          let quickchartButtonEl =\n",
              "            document.querySelector('#df-d39261ac-4b72-40e4-a3a6-64cf7cbfa243 button');\n",
              "          quickchartButtonEl.style.display =\n",
              "            google.colab.kernel.accessAllowed ? 'block' : 'none';\n",
              "        })();\n",
              "      </script>\n",
              "    </div>\n",
              "\n",
              "    </div>\n",
              "  </div>\n"
            ],
            "application/vnd.google.colaboratory.intrinsic+json": {
              "type": "dataframe",
              "summary": "{\n  \"name\": \"df_f1_2022_2024\",\n  \"rows\": 30,\n  \"fields\": [\n    {\n      \"column\": \"Season\",\n      \"properties\": {\n        \"dtype\": \"number\",\n        \"std\": 0,\n        \"min\": 2022,\n        \"max\": 2024,\n        \"num_unique_values\": 3,\n        \"samples\": [\n          2022,\n          2023,\n          2024\n        ],\n        \"semantic_type\": \"\",\n        \"description\": \"\"\n      }\n    },\n    {\n      \"column\": \"Team\",\n      \"properties\": {\n        \"dtype\": \"category\",\n        \"num_unique_values\": 14,\n        \"samples\": [\n          \"Williams Mercedes\",\n          \"Red Bull Racing Honda RBPT\",\n          \"Alfa Romeo Ferrari\"\n        ],\n        \"semantic_type\": \"\",\n        \"description\": \"\"\n      }\n    },\n    {\n      \"column\": \"Points\",\n      \"properties\": {\n        \"dtype\": \"number\",\n        \"std\": 21.45082588234035,\n        \"min\": 0.0,\n        \"max\": 70.0,\n        \"num_unique_values\": 16,\n        \"samples\": [\n          2.0,\n          0.0,\n          9.0\n        ],\n        \"semantic_type\": \"\",\n        \"description\": \"\"\n      }\n    }\n  ]\n}"
            }
          },
          "metadata": {},
          "execution_count": 5
        }
      ]
    },
    {
      "cell_type": "markdown",
      "source": [
        "# Dominancia por Temporada: Puntos Totales por Equipo (2022–2024)\n",
        "Este gráfico representa la suma total de puntos obtenidos por cada equipo en las temporadas 2022, 2023 y 2024. A través de esta visualización, se busca:\n",
        "- Comparar la evolución del rendimiento entre escuderías dominantes y emergentes.\n",
        "- Identificar fracturas en la hegemonía técnica, como el declive de Mercedes o el ascenso de McLaren.\n",
        "- Explorar cómo los datos básicos pueden revelar patrones de supremacía, sin necesidad de modelos complejos.\n"
      ],
      "metadata": {
        "id": "L16s8GvWwdrr"
      }
    },
    {
      "cell_type": "code",
      "source": [
        "import seaborn as sns\n",
        "import matplotlib.pyplot as plt\n",
        "\n",
        "df_summary = df_f1_2022_2024.groupby(['Season', 'Team'])['Points'].sum().reset_index()\n",
        "\n",
        "plt.figure(figsize=(12,6))\n",
        "sns.barplot(data=df_summary, x='Season', y='Points', hue='Team')\n",
        "plt.title('Total Points by Team per Season (2022–2024)')\n",
        "plt.ylabel('Points')\n",
        "plt.xlabel('Season')\n",
        "plt.legend(title='Team', bbox_to_anchor=(1.05, 1), loc='upper left')\n",
        "plt.tight_layout()\n",
        "plt.show()"
      ],
      "metadata": {
        "colab": {
          "base_uri": "https://localhost:8080/",
          "height": 601
        },
        "id": "MXiet115wcsU",
        "outputId": "98221e71-77b9-44ee-d6b0-b90a9aa1e658"
      },
      "execution_count": null,
      "outputs": [
        {
          "output_type": "display_data",
          "data": {
            "text/plain": [
              "<Figure size 1200x600 with 1 Axes>"
            ],
            "image/png": "[encoded data removed]"
          },
          "metadata": {}
        }
      ]
    },
    {
      "cell_type": "markdown",
      "source": [
        "2. convertir en float"
      ],
      "metadata": {
        "id": "SuBRUjn5eq7A"
      }
    },
    {
      "cell_type": "code",
      "source": [
        "def time_to_seconds(t):\n",
        "    try:\n",
        "        m, s = t.split(':')\n",
        "        return int(m) * 60 + float(s)\n",
        "    except:\n",
        "        return None  # o np.nan si prefieres\n",
        "\n",
        "# Aplicar la conversión\n",
        "for col in ['Q1', 'Q2', 'Q3']:\n",
        "    df_f1_2022_2024[col] = df_f1_2022_2024[col].apply(time_to_seconds)"
      ],
      "metadata": {
        "id": "kzIPg_Y5esx5"
      },
      "execution_count": null,
      "outputs": []
    },
    {
      "cell_type": "markdown",
      "source": [
        "3. verificacion de nulos"
      ],
      "metadata": {
        "id": "CIk8TqnqeukF"
      }
    },
    {
      "cell_type": "code",
      "source": [
        "X = df_f1_2022_2024[['Starting Grid', 'Q1', 'Q2', 'Q3']].dropna()\n",
        "y = df_f1_2022_2024.loc[X.index, 'Position']"
      ],
      "metadata": {
        "id": "-vd9ARnEewvy"
      },
      "execution_count": null,
      "outputs": []
    },
    {
      "cell_type": "markdown",
      "source": [
        "4. Identificar valores no numérico\n"
      ],
      "metadata": {
        "id": "wgmRoY8Ze8qW"
      }
    },
    {
      "cell_type": "code",
      "source": [
        "df_f1_2022_2024['Position'].unique()"
      ],
      "metadata": {
        "colab": {
          "base_uri": "https://localhost:8080/"
        },
        "id": "bFBXlYUEe_dA",
        "outputId": "33d69be6-1f67-4364-aab0-66cc53d41194"
      },
      "execution_count": null,
      "outputs": [
        {
          "output_type": "execute_result",
          "data": {
            "text/plain": [
              "array(['1', '2', '3', '4', '5', '6', '7', '8', '9', '10', '11', '12',\n",
              "       '13', '14', '15', '16', '17', '18', '19', 'NC', '20', 'DQ'],\n",
              "      dtype=object)"
            ]
          },
          "metadata": {},
          "execution_count": 11
        }
      ]
    },
    {
      "cell_type": "markdown",
      "source": [
        "5. Filtrar solo posiciones válida"
      ],
      "metadata": {
        "id": "Jx_5BdZBfB0g"
      }
    },
    {
      "cell_type": "code",
      "source": [
        "df_clean = df_f1_2022_2024[df_f1_2022_2024['Position'].str.isnumeric()]\n",
        "df_clean['Position'] = df_clean['Position'].astype(int)"
      ],
      "metadata": {
        "colab": {
          "base_uri": "https://localhost:8080/"
        },
        "id": "U-Z_RbCNfEdc",
        "outputId": "b22f06dd-bd6b-4eb4-9c4b-f4e2641f6225"
      },
      "execution_count": null,
      "outputs": [
        {
          "output_type": "stream",
          "name": "stderr",
          "text": [
            "/tmp/ipython-input-12-1760928023.py:2: SettingWithCopyWarning: \n",
            "A value is trying to be set on a copy of a slice from a DataFrame.\n",
            "Try using .loc[row_indexer,col_indexer] = value instead\n",
            "\n",
            "See the caveats in the documentation: https://pandas.pydata.org/pandas-docs/stable/user_guide/indexing.html#returning-a-view-versus-a-copy\n",
            "  df_clean['Position'] = df_clean['Position'].astype(int)\n"
          ]
        }
      ]
    },
    {
      "cell_type": "markdown",
      "source": [
        "6. Reentrenar el modelo Correlación Técnica vs. Resultad\n"
      ],
      "metadata": {
        "id": "OztD-uzbeyWX"
      }
    },
    {
      "cell_type": "code",
      "source": [
        "X = df_clean[['Starting Grid', 'Q1', 'Q2', 'Q3']].dropna()\n",
        "y = df_clean.loc[X.index, 'Position']\n",
        "model = LinearRegression().fit(X, y)"
      ],
      "metadata": {
        "id": "dcEZlampfK-6"
      },
      "execution_count": null,
      "outputs": []
    },
    {
      "cell_type": "markdown",
      "source": [
        " 2. Correlación Técnica vs. Resultad\n"
      ],
      "metadata": {
        "id": "-CW6UUTief6b"
      }
    },
    {
      "cell_type": "markdown",
      "source": [
        "# 4. Ciencia de Datos e IA en la F1\n",
        "### ¿Desde cuándo se aplica ciencia de datos en la F1?\n",
        "\n",
        "- Uso de simulaciones CFD, túneles de viento, sensores y telemetría desde los años 90s.\n",
        "- Ejemplo: cómo Williams o McLaren usaban análisis de datos antes del auge de la IA.\n",
        "\n",
        "### IA en la F1 actual\n",
        "\n",
        "- Modelos predictivos para estrategia de neumáticos y pits.\n",
        "- Sistemas de machine learning que predicen degradación, accidentes, etc.\n",
        "\n",
        "#### ➕ Bonus: Simulación básica de una estrategia con ML\n",
        "\n",
        "- Predecir vuelta ideal para entrar a pits o comportamiento del safety car.\n"
      ],
      "metadata": {
        "id": "XbMPtkjpJX9P"
      }
    },
    {
      "cell_type": "markdown",
      "source": [
        "1. APIs"
      ],
      "metadata": {
        "id": "kdJOMx5rflGC"
      }
    },
    {
      "cell_type": "code",
      "source": [
        "pip install fastf1"
      ],
      "metadata": {
        "id": "-ekSVinnJZ-w",
        "colab": {
          "base_uri": "https://localhost:8080/"
        },
        "outputId": "08420070-2333-47fb-eeb8-06249b587a9b"
      },
      "execution_count": null,
      "outputs": [
        {
          "output_type": "stream",
          "name": "stdout",
          "text": [
            "Collecting fastf1\n",
            "  Downloading fastf1-3.6.0-py3-none-any.whl.metadata (4.6 kB)\n",
            "Requirement already satisfied: matplotlib<4.0.0,>=3.5.1 in /usr/local/lib/python3.11/dist-packages (from fastf1) (3.10.0)\n",
            "Requirement already satisfied: numpy<3.0.0,>=1.23.1 in /usr/local/lib/python3.11/dist-packages (from fastf1) (2.0.2)\n",
            "Requirement already satisfied: pandas<3.0.0,>=1.4.1 in /usr/local/lib/python3.11/dist-packages (from fastf1) (2.2.2)\n",
            "Requirement already satisfied: python-dateutil in /usr/local/lib/python3.11/dist-packages (from fastf1) (2.9.0.post0)\n",
            "Collecting rapidfuzz (from fastf1)\n",
            "  Downloading rapidfuzz-3.13.0-cp311-cp311-manylinux_2_17_x86_64.manylinux2014_x86_64.whl.metadata (12 kB)\n",
            "Collecting requests-cache>=1.0.0 (from fastf1)\n",
            "  Downloading requests_cache-1.2.1-py3-none-any.whl.metadata (9.9 kB)\n",
            "Requirement already satisfied: requests>=2.28.1 in /usr/local/lib/python3.11/dist-packages (from fastf1) (2.32.3)\n",
            "Requirement already satisfied: scipy<2.0.0,>=1.8.1 in /usr/local/lib/python3.11/dist-packages (from fastf1) (1.16.0)\n",
            "Collecting timple>=0.1.6 (from fastf1)\n",
            "  Downloading timple-0.1.8-py3-none-any.whl.metadata (2.0 kB)\n",
            "Collecting websockets<14,>=10.3 (from fastf1)\n",
            "  Downloading websockets-13.1-cp311-cp311-manylinux_2_5_x86_64.manylinux1_x86_64.manylinux_2_17_x86_64.manylinux2014_x86_64.whl.metadata (6.8 kB)\n",
            "Requirement already satisfied: contourpy>=1.0.1 in /usr/local/lib/python3.11/dist-packages (from matplotlib<4.0.0,>=3.5.1->fastf1) (1.3.2)\n",
            "Requirement already satisfied: cycler>=0.10 in /usr/local/lib/python3.11/dist-packages (from matplotlib<4.0.0,>=3.5.1->fastf1) (0.12.1)\n",
            "Requirement already satisfied: fonttools>=4.22.0 in /usr/local/lib/python3.11/dist-packages (from matplotlib<4.0.0,>=3.5.1->fastf1) (4.59.0)\n",
            "Requirement already satisfied: kiwisolver>=1.3.1 in /usr/local/lib/python3.11/dist-packages (from matplotlib<4.0.0,>=3.5.1->fastf1) (1.4.8)\n",
            "Requirement already satisfied: packaging>=20.0 in /usr/local/lib/python3.11/dist-packages (from matplotlib<4.0.0,>=3.5.1->fastf1) (25.0)\n",
            "Requirement already satisfied: pillow>=8 in /usr/local/lib/python3.11/dist-packages (from matplotlib<4.0.0,>=3.5.1->fastf1) (11.3.0)\n",
            "Requirement already satisfied: pyparsing>=2.3.1 in /usr/local/lib/python3.11/dist-packages (from matplotlib<4.0.0,>=3.5.1->fastf1) (3.2.3)\n",
            "Requirement already satisfied: pytz>=2020.1 in /usr/local/lib/python3.11/dist-packages (from pandas<3.0.0,>=1.4.1->fastf1) (2025.2)\n",
            "Requirement already satisfied: tzdata>=2022.7 in /usr/local/lib/python3.11/dist-packages (from pandas<3.0.0,>=1.4.1->fastf1) (2025.2)\n",
            "Requirement already satisfied: six>=1.5 in /usr/local/lib/python3.11/dist-packages (from python-dateutil->fastf1) (1.17.0)\n",
            "Requirement already satisfied: charset-normalizer<4,>=2 in /usr/local/lib/python3.11/dist-packages (from requests>=2.28.1->fastf1) (3.4.2)\n",
            "Requirement already satisfied: idna<4,>=2.5 in /usr/local/lib/python3.11/dist-packages (from requests>=2.28.1->fastf1) (3.10)\n",
            "Requirement already satisfied: urllib3<3,>=1.21.1 in /usr/local/lib/python3.11/dist-packages (from requests>=2.28.1->fastf1) (2.5.0)\n",
            "Requirement already satisfied: certifi>=2017.4.17 in /usr/local/lib/python3.11/dist-packages (from requests>=2.28.1->fastf1) (2025.7.14)\n",
            "Requirement already satisfied: attrs>=21.2 in /usr/local/lib/python3.11/dist-packages (from requests-cache>=1.0.0->fastf1) (25.3.0)\n",
            "Collecting cattrs>=22.2 (from requests-cache>=1.0.0->fastf1)\n",
            "  Downloading cattrs-25.1.1-py3-none-any.whl.metadata (8.4 kB)\n",
            "Requirement already satisfied: platformdirs>=2.5 in /usr/local/lib/python3.11/dist-packages (from requests-cache>=1.0.0->fastf1) (4.3.8)\n",
            "Collecting url-normalize>=1.4 (from requests-cache>=1.0.0->fastf1)\n",
            "  Downloading url_normalize-2.2.1-py3-none-any.whl.metadata (5.6 kB)\n",
            "Requirement already satisfied: typing-extensions>=4.12.2 in /usr/local/lib/python3.11/dist-packages (from cattrs>=22.2->requests-cache>=1.0.0->fastf1) (4.14.1)\n",
            "Downloading fastf1-3.6.0-py3-none-any.whl (148 kB)\n",
            "\u001b[2K   \u001b[90m━━━━━━━━━━━━━━━━━━━━━━━━━━━━━━━━━━━━━━━━\u001b[0m \u001b[32m148.4/148.4 kB\u001b[0m \u001b[31m3.5 MB/s\u001b[0m eta \u001b[36m0:00:00\u001b[0m\n",
            "\u001b[?25hDownloading requests_cache-1.2.1-py3-none-any.whl (61 kB)\n",
            "\u001b[2K   \u001b[90m━━━━━━━━━━━━━━━━━━━━━━━━━━━━━━━━━━━━━━━━\u001b[0m \u001b[32m61.4/61.4 kB\u001b[0m \u001b[31m6.6 MB/s\u001b[0m eta \u001b[36m0:00:00\u001b[0m\n",
            "\u001b[?25hDownloading timple-0.1.8-py3-none-any.whl (17 kB)\n",
            "Downloading websockets-13.1-cp311-cp311-manylinux_2_5_x86_64.manylinux1_x86_64.manylinux_2_17_x86_64.manylinux2014_x86_64.whl (164 kB)\n",
            "\u001b[2K   \u001b[90m━━━━━━━━━━━━━━━━━━━━━━━━━━━━━━━━━━━━━━━━\u001b[0m \u001b[32m164.8/164.8 kB\u001b[0m \u001b[31m15.2 MB/s\u001b[0m eta \u001b[36m0:00:00\u001b[0m\n",
            "\u001b[?25hDownloading rapidfuzz-3.13.0-cp311-cp311-manylinux_2_17_x86_64.manylinux2014_x86_64.whl (3.1 MB)\n",
            "\u001b[2K   \u001b[90m━━━━━━━━━━━━━━━━━━━━━━━━━━━━━━━━━━━━━━━━\u001b[0m \u001b[32m3.1/3.1 MB\u001b[0m \u001b[31m46.4 MB/s\u001b[0m eta \u001b[36m0:00:00\u001b[0m\n",
            "\u001b[?25hDownloading cattrs-25.1.1-py3-none-any.whl (69 kB)\n",
            "\u001b[2K   \u001b[90m━━━━━━━━━━━━━━━━━━━━━━━━━━━━━━━━━━━━━━━━\u001b[0m \u001b[32m69.4/69.4 kB\u001b[0m \u001b[31m7.3 MB/s\u001b[0m eta \u001b[36m0:00:00\u001b[0m\n",
            "\u001b[?25hDownloading url_normalize-2.2.1-py3-none-any.whl (14 kB)\n",
            "Installing collected packages: websockets, url-normalize, rapidfuzz, cattrs, requests-cache, timple, fastf1\n",
            "  Attempting uninstall: websockets\n",
            "    Found existing installation: websockets 15.0.1\n",
            "    Uninstalling websockets-15.0.1:\n",
            "      Successfully uninstalled websockets-15.0.1\n",
            "\u001b[31mERROR: pip's dependency resolver does not currently take into account all the packages that are installed. This behaviour is the source of the following dependency conflicts.\n",
            "dataproc-spark-connect 0.8.3 requires websockets>=14.0, but you have websockets 13.1 which is incompatible.\u001b[0m\u001b[31m\n",
            "\u001b[0mSuccessfully installed cattrs-25.1.1 fastf1-3.6.0 rapidfuzz-3.13.0 requests-cache-1.2.1 timple-0.1.8 url-normalize-2.2.1 websockets-13.1\n"
          ]
        }
      ]
    },
    {
      "cell_type": "markdown",
      "source": [
        "1.2 test"
      ],
      "metadata": {
        "id": "u5Pv-4Bjf8SU"
      }
    },
    {
      "cell_type": "code",
      "source": [
        "import os\n",
        "import fastf1\n",
        "\n",
        "# Crear carpeta si no existe\n",
        "cache_path = './fastf1_cache'\n",
        "os.makedirs(cache_path, exist_ok=True)\n",
        "\n",
        "# Habilitar caché\n",
        "fastf1.Cache.enable_cache(cache_path)"
      ],
      "metadata": {
        "id": "c8ht5cOXf-Sb"
      },
      "execution_count": null,
      "outputs": []
    },
    {
      "cell_type": "code",
      "source": [
        "session = fastf1.get_session(2023, 'Monaco', 'R')  # 'R' = Race\n",
        "session.load()"
      ],
      "metadata": {
        "colab": {
          "base_uri": "https://localhost:8080/"
        },
        "id": "6tUjGhy7gGBo",
        "outputId": "122e944f-fbe8-4e35-92c6-226b159922d1"
      },
      "execution_count": null,
      "outputs": [
        {
          "output_type": "stream",
          "name": "stderr",
          "text": [
            "core           INFO \tLoading data for Monaco Grand Prix - Race [v3.6.0]\n",
            "INFO:fastf1.fastf1.core:Loading data for Monaco Grand Prix - Race [v3.6.0]\n",
            "req            INFO \tNo cached data found for session_info. Loading data...\n",
            "INFO:fastf1.fastf1.req:No cached data found for session_info. Loading data...\n",
            "_api           INFO \tFetching session info data...\n",
            "INFO:fastf1.api:Fetching session info data...\n",
            "req            INFO \tData has been written to cache!\n",
            "INFO:fastf1.fastf1.req:Data has been written to cache!\n",
            "req            INFO \tNo cached data found for driver_info. Loading data...\n",
            "INFO:fastf1.fastf1.req:No cached data found for driver_info. Loading data...\n",
            "_api           INFO \tFetching driver list...\n",
            "INFO:fastf1.api:Fetching driver list...\n",
            "req            INFO \tData has been written to cache!\n",
            "INFO:fastf1.fastf1.req:Data has been written to cache!\n",
            "DEBUG:fastf1.ergast:Failed to parse timestamp '-1:53:44.819' in Ergastresponse.\n",
            "req            INFO \tNo cached data found for session_status_data. Loading data...\n",
            "INFO:fastf1.fastf1.req:No cached data found for session_status_data. Loading data...\n",
            "_api           INFO \tFetching session status data...\n",
            "INFO:fastf1.api:Fetching session status data...\n",
            "req            INFO \tData has been written to cache!\n",
            "INFO:fastf1.fastf1.req:Data has been written to cache!\n",
            "req            INFO \tNo cached data found for lap_count. Loading data...\n",
            "INFO:fastf1.fastf1.req:No cached data found for lap_count. Loading data...\n",
            "_api           INFO \tFetching lap count data...\n",
            "INFO:fastf1.api:Fetching lap count data...\n",
            "req            INFO \tData has been written to cache!\n",
            "INFO:fastf1.fastf1.req:Data has been written to cache!\n",
            "req            INFO \tNo cached data found for track_status_data. Loading data...\n",
            "INFO:fastf1.fastf1.req:No cached data found for track_status_data. Loading data...\n",
            "_api           INFO \tFetching track status data...\n",
            "INFO:fastf1.api:Fetching track status data...\n",
            "req            INFO \tData has been written to cache!\n",
            "INFO:fastf1.fastf1.req:Data has been written to cache!\n",
            "req            INFO \tNo cached data found for _extended_timing_data. Loading data...\n",
            "INFO:fastf1.fastf1.req:No cached data found for _extended_timing_data. Loading data...\n",
            "_api           INFO \tFetching timing data...\n",
            "INFO:fastf1.api:Fetching timing data...\n",
            "_api           INFO \tParsing timing data...\n",
            "INFO:fastf1.api:Parsing timing data...\n",
            "req            INFO \tData has been written to cache!\n",
            "INFO:fastf1.fastf1.req:Data has been written to cache!\n",
            "req            INFO \tNo cached data found for timing_app_data. Loading data...\n",
            "INFO:fastf1.fastf1.req:No cached data found for timing_app_data. Loading data...\n",
            "_api           INFO \tFetching timing app data...\n",
            "INFO:fastf1.api:Fetching timing app data...\n",
            "req            INFO \tData has been written to cache!\n",
            "INFO:fastf1.fastf1.req:Data has been written to cache!\n",
            "core           INFO \tProcessing timing data...\n",
            "INFO:fastf1.fastf1.core:Processing timing data...\n",
            "req            INFO \tNo cached data found for car_data. Loading data...\n",
            "INFO:fastf1.fastf1.req:No cached data found for car_data. Loading data...\n",
            "_api           INFO \tFetching car data...\n",
            "INFO:fastf1.api:Fetching car data...\n",
            "_api           INFO \tParsing car data...\n",
            "INFO:fastf1.api:Parsing car data...\n",
            "req            INFO \tData has been written to cache!\n",
            "INFO:fastf1.fastf1.req:Data has been written to cache!\n",
            "req            INFO \tNo cached data found for position_data. Loading data...\n",
            "INFO:fastf1.fastf1.req:No cached data found for position_data. Loading data...\n",
            "_api           INFO \tFetching position data...\n",
            "INFO:fastf1.api:Fetching position data...\n",
            "_api           INFO \tParsing position data...\n",
            "INFO:fastf1.api:Parsing position data...\n",
            "req            INFO \tData has been written to cache!\n",
            "INFO:fastf1.fastf1.req:Data has been written to cache!\n",
            "req            INFO \tNo cached data found for weather_data. Loading data...\n",
            "INFO:fastf1.fastf1.req:No cached data found for weather_data. Loading data...\n",
            "_api           INFO \tFetching weather data...\n",
            "INFO:fastf1.api:Fetching weather data...\n",
            "req            INFO \tData has been written to cache!\n",
            "INFO:fastf1.fastf1.req:Data has been written to cache!\n",
            "req            INFO \tNo cached data found for race_control_messages. Loading data...\n",
            "INFO:fastf1.fastf1.req:No cached data found for race_control_messages. Loading data...\n",
            "_api           INFO \tFetching race control messages...\n",
            "INFO:fastf1.api:Fetching race control messages...\n",
            "req            INFO \tData has been written to cache!\n",
            "INFO:fastf1.fastf1.req:Data has been written to cache!\n",
            "core           INFO \tFinished loading data for 20 drivers: ['1', '14', '31', '44', '63', '16', '10', '55', '4', '81', '77', '21', '24', '23', '22', '11', '27', '2', '20', '18']\n",
            "INFO:fastf1.fastf1.core:Finished loading data for 20 drivers: ['1', '14', '31', '44', '63', '16', '10', '55', '4', '81', '77', '21', '24', '23', '22', '11', '27', '2', '20', '18']\n"
          ]
        }
      ]
    },
    {
      "cell_type": "markdown",
      "source": [
        "2. Modelo"
      ],
      "metadata": {
        "id": "Im2UPMe-fwMq"
      }
    },
    {
      "cell_type": "code",
      "source": [
        "laps = session.laps.pick_drivers(['VER', 'HAM', 'ALO'])  # ejemplo: pilotos específicos\n",
        "laps = laps.loc[laps['PitInTime'].notna()]  # solo vueltas con parada\n",
        "\n",
        "# Crear variables útiles\n",
        "laps['LapNumber'] = laps['LapNumber']\n",
        "laps['Compound'] = laps['Compound']\n",
        "laps['TrackStatus'] = laps['TrackStatus']  # incluye SC, bandera roja, etc.\n",
        "laps['Position'] = laps['Position']\n",
        "laps['Time'] = laps['LapTime'].dt.total_seconds()"
      ],
      "metadata": {
        "colab": {
          "base_uri": "https://localhost:8080/"
        },
        "id": "c5x1bYgFfwh2",
        "outputId": "157c9bad-1726-4dea-9f56-b05c64900dea"
      },
      "execution_count": null,
      "outputs": [
        {
          "output_type": "stream",
          "name": "stderr",
          "text": [
            "/tmp/ipython-input-18-2366300733.py:5: SettingWithCopyWarning: \n",
            "A value is trying to be set on a copy of a slice from a DataFrame.\n",
            "Try using .loc[row_indexer,col_indexer] = value instead\n",
            "\n",
            "See the caveats in the documentation: https://pandas.pydata.org/pandas-docs/stable/user_guide/indexing.html#returning-a-view-versus-a-copy\n",
            "  laps['LapNumber'] = laps['LapNumber']\n",
            "/tmp/ipython-input-18-2366300733.py:6: SettingWithCopyWarning: \n",
            "A value is trying to be set on a copy of a slice from a DataFrame.\n",
            "Try using .loc[row_indexer,col_indexer] = value instead\n",
            "\n",
            "See the caveats in the documentation: https://pandas.pydata.org/pandas-docs/stable/user_guide/indexing.html#returning-a-view-versus-a-copy\n",
            "  laps['Compound'] = laps['Compound']\n",
            "/tmp/ipython-input-18-2366300733.py:7: SettingWithCopyWarning: \n",
            "A value is trying to be set on a copy of a slice from a DataFrame.\n",
            "Try using .loc[row_indexer,col_indexer] = value instead\n",
            "\n",
            "See the caveats in the documentation: https://pandas.pydata.org/pandas-docs/stable/user_guide/indexing.html#returning-a-view-versus-a-copy\n",
            "  laps['TrackStatus'] = laps['TrackStatus']  # incluye SC, bandera roja, etc.\n",
            "/tmp/ipython-input-18-2366300733.py:8: SettingWithCopyWarning: \n",
            "A value is trying to be set on a copy of a slice from a DataFrame.\n",
            "Try using .loc[row_indexer,col_indexer] = value instead\n",
            "\n",
            "See the caveats in the documentation: https://pandas.pydata.org/pandas-docs/stable/user_guide/indexing.html#returning-a-view-versus-a-copy\n",
            "  laps['Position'] = laps['Position']\n",
            "/tmp/ipython-input-18-2366300733.py:9: SettingWithCopyWarning: \n",
            "A value is trying to be set on a copy of a slice from a DataFrame.\n",
            "Try using .loc[row_indexer,col_indexer] = value instead\n",
            "\n",
            "See the caveats in the documentation: https://pandas.pydata.org/pandas-docs/stable/user_guide/indexing.html#returning-a-view-versus-a-copy\n",
            "  laps['Time'] = laps['LapTime'].dt.total_seconds()\n"
          ]
        }
      ]
    },
    {
      "cell_type": "code",
      "source": [
        "laps.loc[:, 'Time'] = laps['LapTime'].dt.total_seconds()"
      ],
      "metadata": {
        "id": "Ul-nrvACgxGQ"
      },
      "execution_count": null,
      "outputs": []
    },
    {
      "cell_type": "markdown",
      "source": [
        "# codificacion"
      ],
      "metadata": {
        "id": "P6tLorKQgQEu"
      }
    },
    {
      "cell_type": "code",
      "source": [
        "laps = laps.copy()  # Esto elimina el warning en todas las asignaciones posteriores"
      ],
      "metadata": {
        "id": "eLZy4D7kg4l1"
      },
      "execution_count": null,
      "outputs": []
    },
    {
      "cell_type": "code",
      "source": [
        "from sklearn.preprocessing import LabelEncoder\n",
        "laps['Compound_encoded'] = le.fit_transform(laps['Compound'])\n",
        "laps['TrackStatus_encoded'] = le.fit_transform(laps['TrackStatus'].astype(str))"
      ],
      "metadata": {
        "id": "WWeUou5-gSke"
      },
      "execution_count": null,
      "outputs": []
    },
    {
      "cell_type": "markdown",
      "source": [
        "Entrenar modelo"
      ],
      "metadata": {
        "id": "igaOr_59gd1U"
      }
    },
    {
      "cell_type": "code",
      "source": [
        "from sklearn.ensemble import RandomForestRegressor\n",
        "\n",
        "X = laps[['LapNumber', 'Compound_encoded', 'TrackStatus_encoded', 'Position']]\n",
        "y = laps['Time']  # tiempo de vuelta como proxy de rendimiento\n",
        "\n",
        "model = RandomForestRegressor().fit(X, y)"
      ],
      "metadata": {
        "id": "YoW-S4X_gXkx"
      },
      "execution_count": null,
      "outputs": []
    },
    {
      "cell_type": "markdown",
      "source": [
        "Simular estrategia"
      ],
      "metadata": {
        "id": "WhNtQSuWggJD"
      }
    },
    {
      "cell_type": "code",
      "source": [
        "from sklearn.preprocessing import LabelEncoder\n",
        "\n",
        "# Entrenar con todos los compuestos posibles\n",
        "all_compounds = ['SOFT', 'MEDIUM', 'HARD', 'INTERMEDIATE', 'WET']\n",
        "compound_encoder = LabelEncoder()\n",
        "compound_encoder.fit(all_compounds)\n",
        "\n",
        "# Entrenar con todos los estados posibles de pista\n",
        "all_track_status = ['1', '2', '3', '4', '5']  # SC, bandera roja, VSC, etc.\n",
        "track_status_encoder = LabelEncoder()\n",
        "track_status_encoder.fit(all_track_status)\n",
        "\n",
        "# Aplicar codificación al dataset\n",
        "laps['Compound_encoded'] = compound_encoder.transform(laps['Compound'])\n",
        "laps['TrackStatus_encoded'] = track_status_encoder.transform(laps['TrackStatus'].astype(str))"
      ],
      "metadata": {
        "id": "1DX80wC8hBBC"
      },
      "execution_count": null,
      "outputs": []
    },
    {
      "cell_type": "code",
      "source": [
        "from sklearn.ensemble import RandomForestRegressor\n",
        "from sklearn.model_selection import train_test_split\n",
        "\n",
        "X = laps[['LapNumber', 'Compound_encoded', 'TrackStatus_encoded', 'Position']]\n",
        "y = laps['Time']\n",
        "\n",
        "X_train, X_test, y_train, y_test = train_test_split(X, y, test_size=0.2, random_state=42)\n",
        "model = RandomForestRegressor().fit(X_train, y_train)"
      ],
      "metadata": {
        "id": "fj5GxOVGiUXW"
      },
      "execution_count": null,
      "outputs": []
    },
    {
      "cell_type": "markdown",
      "source": [
        "Simular estrategia"
      ],
      "metadata": {
        "id": "mjhbynRMgbhN"
      }
    },
    {
      "cell_type": "code",
      "source": [
        "lap_sim = pd.DataFrame({\n",
        "    'LapNumber': [15],\n",
        "    'Compound_encoded': [compound_encoder.transform(['SOFT'])[0]],\n",
        "    'TrackStatus_encoded': [track_status_encoder.transform(['1'])[0]],  # SC\n",
        "    'Position': [3]\n",
        "})\n",
        "\n",
        "predicted_time = model.predict(lap_sim)\n",
        "print(f\"⏱️ Tiempo estimado en vuelta 15 con SC y Soft: {predicted_time[0]:.2f} segundos\")"
      ],
      "metadata": {
        "colab": {
          "base_uri": "https://localhost:8080/"
        },
        "id": "LG4GejJcgh9p",
        "outputId": "0136cb85-e7dc-42d2-870c-a33471ab41b3"
      },
      "execution_count": null,
      "outputs": [
        {
          "output_type": "stream",
          "name": "stdout",
          "text": [
            "⏱️ Tiempo estimado en vuelta 15 con SC y Soft: 113.92 segundos\n"
          ]
        }
      ]
    },
    {
      "cell_type": "markdown",
      "source": [
        "Validacion"
      ],
      "metadata": {
        "id": "D1wYCP42hfxY"
      }
    },
    {
      "cell_type": "code",
      "source": [
        "from sklearn.ensemble import RandomForestRegressor\n",
        "\n",
        "X = laps[['LapNumber', 'Compound_encoded', 'TrackStatus_encoded', 'Position']]\n",
        "y = laps['Time']  # tiempo de vuelta como proxy de rendimiento\n",
        "\n",
        "model = RandomForestRegressor().fit(X, y)"
      ],
      "metadata": {
        "id": "bOt4qi-XhhD8"
      },
      "execution_count": null,
      "outputs": []
    },
    {
      "cell_type": "markdown",
      "source": [
        "metricas rendimiento"
      ],
      "metadata": {
        "id": "Pl27p_-eh_aD"
      }
    },
    {
      "cell_type": "code",
      "source": [
        "from sklearn.metrics import mean_absolute_error, mean_squared_error, r2_score\n",
        "\n",
        "y_pred = model.predict(X_test)\n",
        "\n",
        "print(\"MAE:\", mean_absolute_error(y_test, y_pred))\n",
        "print(\"MSE:\", mean_squared_error(y_test, y_pred))\n",
        "print(\"R²:\", r2_score(y_test, y_pred))"
      ],
      "metadata": {
        "colab": {
          "base_uri": "https://localhost:8080/"
        },
        "id": "hn61YMrtiA_2",
        "outputId": "16b6c3ea-9e79-4cdd-a6b5-6f6d7b60a720"
      },
      "execution_count": null,
      "outputs": [
        {
          "output_type": "stream",
          "name": "stdout",
          "text": [
            "MAE: 12.379320000000035\n",
            "MSE: 153.24756366240086\n",
            "R²: nan\n"
          ]
        },
        {
          "output_type": "stream",
          "name": "stderr",
          "text": [
            "/usr/local/lib/python3.11/dist-packages/sklearn/metrics/_regression.py:1266: UndefinedMetricWarning: R^2 score is not well-defined with less than two samples.\n",
            "  warnings.warn(msg, UndefinedMetricWarning)\n"
          ]
        }
      ]
    },
    {
      "cell_type": "markdown",
      "source": [
        "Conclusiones\n",
        "MAE: En promedio, el modelo se equivoca por 12.38 segundos en cada vuelta\n",
        "MSE: Penaliza errores grandes; indica que hay algunas predicciones muy desviadas\n",
        "R^2: El modelo no puede explicar la variabilidad — probablemente por datos mal formateados, constantes o nulos en y_test"
      ],
      "metadata": {
        "id": "Ij6vDiM7jVHT"
      }
    },
    {
      "cell_type": "code",
      "source": [
        "import matplotlib.pyplot as plt\n",
        "\n",
        "plt.figure(figsize=(8,6))\n",
        "plt.scatter(y_test, y_pred, alpha=0.6, color='purple')\n",
        "plt.plot([y_test.min(), y_test.max()], [y_test.min(), y_test.max()], 'r--')  # línea ideal\n",
        "plt.xlabel(\"⏱️ Tiempo real\")\n",
        "plt.ylabel(\"🔮 Tiempo predicho\")\n",
        "plt.title(\"📊 Cristal de Coherencia Estratégica\")\n",
        "plt.grid(True)\n",
        "plt.show()"
      ],
      "metadata": {
        "colab": {
          "base_uri": "https://localhost:8080/",
          "height": 677
        },
        "id": "elsOSGcdiIzx",
        "outputId": "ecdd6fa9-a6dc-48ef-e89a-c77a0d703aca"
      },
      "execution_count": null,
      "outputs": [
        {
          "output_type": "stream",
          "name": "stderr",
          "text": [
            "/usr/local/lib/python3.11/dist-packages/IPython/core/pylabtools.py:151: UserWarning: Glyph 128302 (\\N{CRYSTAL BALL}) missing from font(s) DejaVu Sans.\n",
            "  fig.canvas.print_figure(bytes_io, **kw)\n",
            "/usr/local/lib/python3.11/dist-packages/IPython/core/pylabtools.py:151: UserWarning: Glyph 128202 (\\N{BAR CHART}) missing from font(s) DejaVu Sans.\n",
            "  fig.canvas.print_figure(bytes_io, **kw)\n",
            "/usr/local/lib/python3.11/dist-packages/IPython/core/pylabtools.py:151: UserWarning: Glyph 9201 (\\N{STOPWATCH}) missing from font(s) DejaVu Sans.\n",
            "  fig.canvas.print_figure(bytes_io, **kw)\n"
          ]
        },
        {
          "output_type": "display_data",
          "data": {
            "text/plain": [
              "<Figure size 800x600 with 1 Axes>"
            ],
            "image/png": "[encoded data removed]"
          },
          "metadata": {}
        }
      ]
    },
    {
      "cell_type": "code",
      "source": [
        "import seaborn as sns\n",
        "import matplotlib.pyplot as plt\n",
        "\n",
        "# Selección de variables técnicas\n",
        "features = ['LapNumber', 'Compound_encoded', 'TrackStatus_encoded', 'Position', 'Time']\n",
        "corr_matrix = laps[features].corr()"
      ],
      "metadata": {
        "id": "KRDnXftZi0o3"
      },
      "execution_count": null,
      "outputs": []
    },
    {
      "cell_type": "code",
      "source": [
        "plt.figure(figsize=(8,6))\n",
        "sns.heatmap(corr_matrix, annot=True, cmap='Purples', fmt=\".2f\", linewidths=0.5)\n",
        "plt.title(\"🔮 Mapa de Resonancia Técnica\")\n",
        "plt.show()"
      ],
      "metadata": {
        "colab": {
          "base_uri": "https://localhost:8080/",
          "height": 732
        },
        "id": "rBISO-l2i1ui",
        "outputId": "338ef9d2-6800-4946-bc58-f456c705504a"
      },
      "execution_count": null,
      "outputs": [
        {
          "output_type": "stream",
          "name": "stderr",
          "text": [
            "/usr/local/lib/python3.11/dist-packages/IPython/core/pylabtools.py:151: UserWarning: Glyph 128302 (\\N{CRYSTAL BALL}) missing from font(s) DejaVu Sans.\n",
            "  fig.canvas.print_figure(bytes_io, **kw)\n"
          ]
        },
        {
          "output_type": "display_data",
          "data": {
            "text/plain": [
              "<Figure size 800x600 with 2 Axes>"
            ],
            "image/png": "[encoded data removed]"
          },
          "metadata": {}
        }
      ]
    },
    {
      "cell_type": "markdown",
      "source": [
        "# 5. Causalidad vs Correlación\n",
        "### Lo que los datos *no* pueden prever\n",
        "\n",
        "- Ejemplos de carreras con lluvia: Silverstone 2008, Brasil 2016, Spa 2021.\n",
        "- Factores como errores humanos, clima, fallas técnicas.\n",
        "\n",
        "### Discusión\n",
        "\n",
        "- ¿Los datos controlan el deporte o simplemente lo explican mejor?\n",
        "- ¿Qué papel sigue teniendo el piloto, el ingeniero y la incertidumbre?\n",
        "\n",
        "#### Reflexión:\n",
        "> Decir que los datos controlan todo es ignorar que hay causalidad y aleatoriedad no modelada. Los datos ayudan a entender, pero no a dominar el caos del deporte.\n"
      ],
      "metadata": {
        "id": "bF3E71zdJb_0"
      }
    },
    {
      "cell_type": "markdown",
      "source": [
        "# 6. Conclusiones\n",
        "- La ciencia de datos ha estado presente desde hace décadas, y la IA moderna es una evolución de esos métodos.\n",
        "- Los datos mejoran la toma de decisiones, pero no garantizan control total.\n",
        "- El espectáculo de la F1 sigue siendo humano, técnico y caótico.\n",
        "- algunos factoresd como el correr en una pista nueva podria generar mas accidentes y por ende mas safety car. como paso en el GP de arabia saudi en su primera edición."
      ],
      "metadata": {
        "id": "l5NHMNITJd3n"
      }
    },
    {
      "cell_type": "markdown",
      "source": [
        "# 7. Bibliografía / Referencias\n",
        "## Enlaces a datasets usados\n",
        "- https://github.com/toUpperCase78/formula1-datasets?utm_source=chatgpt.com\n",
        "## Documentación de APIs como ergast o FastF1\n",
        "- https://docs.fastf1.dev/"
      ],
      "metadata": {
        "id": "qQhtxCSgJiZC"
      }
    },
    {
      "cell_type": "code",
      "source": [],
      "metadata": {
        "id": "lTfJr4Mozwc7"
      },
      "execution_count": null,
      "outputs": []
    }
  ]
}